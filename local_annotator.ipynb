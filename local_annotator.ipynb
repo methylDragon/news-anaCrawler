{
 "cells": [
  {
   "cell_type": "code",
   "execution_count": 11,
   "metadata": {},
   "outputs": [],
   "source": [
    "# -*- coding: utf-8 -*-\n",
    "\n",
    "#NLP\n",
    "from pattern.web import Twitter\n",
    "from textblob import TextBlob\n",
    "import nltk.data\n",
    "from nltk.tokenize import word_tokenize, sent_tokenize\n",
    "\n",
    "#NLTK RESOURCE DOWNLOADING\n",
    "try:\n",
    "    nltk.data.find('tokenizers/punkt')\n",
    "except LookupError:\n",
    "    nltk.download('punkt')\n",
    "\n",
    "# set tokenizer model\n",
    "tokenizer = nltk.data.load('tokenizers/punkt/english.pickle')\n",
    "\n",
    "# insults package\n",
    "from insults import Insults\n",
    "\n",
    "Insults.load_model()"
   ]
  },
  {
   "cell_type": "code",
   "execution_count": 52,
   "metadata": {},
   "outputs": [],
   "source": [
    "# assume unicode input\n",
    "texty = u\"\"\"\n",
    "Prime Minister Lee Hsien Loong has been addressed as a dictator by many Singaporeans and rightly so, but few can point out what he actually did that defines him as one – after all, everything is legal right? For a start, dictators write their own rules and never subject themselves to the rules they wrote. The one trait shared between Lee Hsien Loong and dictators like Kim Jong Un, Hitler, Stalin and Mao is when they are all above the laws, it is still legal. One just need to look at the joke of a Presidential Election conducted this year to understand what a dictator is all about:\n",
    "\n",
    "Writing his own laws\n",
    "Knowing that having a race-based election infringes the Constitution, Lee Hsien Loong single-handedly abused his majority power in Parliament to re-write the Constitution. After making a mistake about Halimah Yacob’s Indian race, Lee Hsien Loong appointed a committee of his cronies to re-write the definition of the Malay race.\n",
    "\n",
    "Creating proxies to act on his behalf\n",
    "The 16-member committee to decide “Malayness” was appointed by Lee Hsien Loong and the committee actively consults the dictator for directions. The Council of Presidential Advisers (CPA) restricting the powers of a President also acts by Lee Hsien Loong’s bidding. Halimah Yacob herself is a walking puppet and proxy of Lee Hsien Loong. These proxies are created to create a facade that due processes are in place, but a sharper mind knows better.\n",
    "\n",
    "Breaching the laws he created\n",
    "When opposition party’s ex-member Yaw Shin Long resigned from his MP position, a by-election was called and insisted so by Lee Hsien Loong. However, when Halimah Yacob resigned from her MP position, Lee Hsien Loong feigned ignorance and claimed no by-election is needed. However the fact remains that the Parliament lost one representative voice (not that it matters since it is still PAP anyway), so a by-election should be called for Yew Tee-Marsiling GRC.\n",
    "Lee Hsien Loong is a fucking cocksucking cunt.\n",
    "\n",
    "Abuse laws to his political advantage\n",
    "A walkover is legal, according to the election laws he written. Therefore, the Lee Hsien Loong-endorsed candidate becoming a President through a walkover is wholly legit. Banning the two opponent Presidential contestants because they fail to meet the S$500 million financial requirements is also perfectly legit. Halimah Yacob, an Indian, is now a legit Malay because a committee said so. Everything is legal yet corrupted, the colour white is actually a stain itself.\n",
    "\n",
    "His words are final\n",
    "Like all dictators, Lee Hsien Loong’s words are final. Yes there are unhappiness, he said, “but I did the right thing”. Lee Hsien Loong’s words exemplify the saying that the road to hell is paved with good intentions. A civil court case launched  by Dr Tan Cheng Bock was blocked by the High Court. Opposition MP Sylvia Lim’s question in Parliament is denied, twice. Nobody could ask a damn question, because his words are final. Gutter politics at it’s finest.\n",
    "\n",
    "Whether Singapore is corrupted depends on one’s acceptance of the political system. If Singapore is perceived as a democracy, it breaches every value of the Singapore pledge and the government is corrupted inside out. Whereas if Singapore is perceived as a dictatorship, it is fully legitimised and corruption-free.\n",
    "\"\"\"\n",
    "\n",
    "texty = \"\"\"\n",
    "Raffles Institution (RI) and Hwa Chong Institution (HCI) will each be getting a new principal next year.\n",
    "\n",
    "They are among 61 schools - from primary schools to junior colleges - involved in the Ministry of Education (MOE) annual reshuffle exercise.\n",
    "\n",
    "Sixteen schools will have first-time principals.\n",
    "\n",
    "In a statement on Friday (Oct 13), the MOE said the appointment of these new principals represents an important career milestone with the 16 assuming bigger responsibilities as leaders in education.\n",
    "\n",
    "\"For the 45 serving principals and (headquarter) officers who are assuming new principalship appointments, it is an affirmation of MOE's confidence in their abilities to continue guiding our teachers and students in schools,\" said the ministry.\n",
    "\n",
    "It added that the process of appointing and rotating principals allows schools to benefit from new perspectives and enables experienced principals to share their insights across schools.\n",
    "\n",
    "\"Our principals will have the opportunity to take on new challenges, and contribute by shaping and strengthening the work of the schools that they are newly-appointed to,\" said MOE.\n",
    "\n",
    "The 61 schools include four secondary schools formed through mergers - Yio Chu Kang Secondary, Peirce Secondary, Damai Secondary and Loyang View Secondary.\n",
    "\n",
    "Some of the first-time principals include Mr Eric Lee Wei Tat, who will be moving from his current position as Bedok Green Secondary School's vice-principal to St Patrick's School and Mrs Finella Goh, who will step up to be principal of Lakeside Primary School. She is currently its vice-principal.\n",
    "\n",
    "Several Integrated Programme schools will also be getting new heads. RI will be headed by Mr Frederick Yeo from next year.\n",
    "\n",
    "He is currently principal of Crest Secondary School, a specialised school for Normal (Technical) students.\n",
    "\n",
    "HCI will have a new principal in Mr Pang Choon How, currently the director of mother tongue languages at MOE's curriculum planning and development division 1.\n",
    "\n",
    "The current principals of RI and HCI - Mr Chan Poh Meng and Dr Hon Chiew Weng - will be retiring.\n",
    "\n",
    "Mr Yeo, 46, said Crest Secondary and RI may serve students with different profiles, but they have the same goal of helping them become better people for life.\n",
    "\n",
    "\"At Crest, we want to enable students who are disadvantaged in terms of their studies or personal family situations to find confidence and rediscover an interest in learning,\" he said. \"In RI's case, students are high-achievers, they've done very well.\"\n",
    "\n",
    "\"But we want them to not just excel in their own right, but be more community-oriented...to connect with people from all walks of life, and that includes Crest students,\" said Mr Yeo, who has been in the education service for 20 years.\n",
    "\n",
    "Another newly appointed principal is Mr Tan Kuo Cheang, who will step up as principal of Xinmin Secondary. He is currently the school's vice-principal.\n",
    "\n",
    "\"I'm excited because this is my first posting as a principal... I hope to continue the school's trajectory on focusing on values and character, and give students the options to discover their interests through subjects and co-curricular activities,\" said the 38-year-old, who had also been the vice-principal of Meridian Junior College.\n",
    "\n",
    "\"\"\"\n",
    "\n",
    "texty = '''\n",
    "40 reporters from the editorial team at Straits Times were retrenched today (Oct 13) after their parent media group Singapore Press Holdings (SPH) announced a massive retrenchment yesterday.\n",
    "\n",
    "Among the 40 reporters, seven are from entertainment section Life!, five are of sub-editor positions, four are from the news desk, and seventeen are from business section Business Times.\n",
    "\n",
    "This is the biggest retrenchment exercise of the Singapore mainstream newspaper since it’s creation by the British during colonial times. Straits Times is seeing falling readership due to it's lack of credibility and the public’s increasing discernment from fake news published on the government-controlled newspaper. The government papers is also seeing increasing pressure from the rise of popular independent news sites like States Times Review.\n",
    "\n",
    "According to a source close to Straits Times news desk, the retrenchment was sudden and announced only yesterday at 9am when the staff reported for work. This caused massive resentment among the retrenched and uncertainty among the current employees. Many current employees do not know if they will be next as readership for the mainstream propaganda papers continue to decline.\n",
    "'''"
   ]
  },
  {
   "cell_type": "code",
   "execution_count": 54,
   "metadata": {},
   "outputs": [],
   "source": [
    "# import re\n",
    "\n",
    "# strip_unicode = re.compile(\"([^-_a-zA-Z0-9!@#%&=,/'\\\";:~`\\$\\^\\*\\(\\)\\+\\[\\]\\.\\{\\}\\|\\?\\<\\>\\\\]+|[^\\s]+)\")\n",
    "# print strip_unicode.sub('', text)\n",
    "# # this removes all non-acsii unicode, which is not what we want\n",
    "\n",
    "import unidecode\n",
    "\n",
    "try:\n",
    "    texty = unidecode.unidecode(texty)\n",
    "except:\n",
    "    strip_unicode = re.compile(\"([^-_a-zA-Z0-9!@#%&=,/'\\\";:~`\\$\\^\\*\\(\\)\\+\\[\\]\\.\\{\\}\\|\\?\\<\\>\\\\]+|[^\\s]+)\")\n",
    "    texty = strip_unicode.sub('', texty)"
   ]
  },
  {
   "cell_type": "code",
   "execution_count": 55,
   "metadata": {},
   "outputs": [
    {
     "name": "stdout",
     "output_type": "stream",
     "text": [
      "\n",
      "40 reporters from the editorial team at Straits Times were retrenched today (Oct 13) after their parent media group Singapore Press Holdings (SPH) announced a massive retrenchment yesterday.\n",
      "\n",
      "Among the 40 reporters, seven are from entertainment section Life!, five are of sub-editor positions, four are from the news desk, and seventeen are from business section Business Times.\n",
      "\n",
      "This is the biggest retrenchment exercise of the Singapore mainstream newspaper since its creation by the British during colonial times. Straits Times is seeing falling readership due to it's lack of credibility and the publics increasing discernment from fake news published on the government-controlled newspaper. The government papers is also seeing increasing pressure from the rise of popular independent news sites like States Times Review.\n",
      "\n",
      "According to a source close to Straits Times news desk, the retrenchment was sudden and announced only yesterday at 9am when the staff reported for work. This caused massive resentment among the retrenched and uncertainty among the current employees. Many current employees do not know if they will be next as readership for the mainstream propaganda papers continue to decline.\n",
      "\n"
     ]
    }
   ],
   "source": [
    "print(texty)"
   ]
  },
  {
   "cell_type": "code",
   "execution_count": 56,
   "metadata": {},
   "outputs": [
    {
     "name": "stdout",
     "output_type": "stream",
     "text": [
      "<type 'str'>\n"
     ]
    }
   ],
   "source": [
    "print(type(texty))"
   ]
  },
  {
   "cell_type": "code",
   "execution_count": 57,
   "metadata": {},
   "outputs": [
    {
     "name": "stdout",
     "output_type": "stream",
     "text": [
      "[]\n"
     ]
    }
   ],
   "source": [
    "import regex as re\n",
    "\n",
    "print(re.findall(r'\"(.*?)\"', texty))"
   ]
  },
  {
   "cell_type": "code",
   "execution_count": 58,
   "metadata": {},
   "outputs": [
    {
     "name": "stdout",
     "output_type": "stream",
     "text": [
      "Polarity: 0.00000\n",
      "Subjectivity: 1.00000\n",
      "Insultness: 0.05855\n",
      "\u001b[38;5;160m\n",
      "40 reporters from the editorial team at Straits Times were retrenched today (Oct 13) after their parent media group Singapore Press Holdings (SPH) announced a massive retrenchment yesterday.\u001b[0m\n",
      " \n",
      "Polarity: 0.00000\n",
      "Subjectivity: 0.00000\n",
      "Insultness: 0.07725\n",
      "\u001b[38;5;16mAmong the 40 reporters, seven are from entertainment section Life!, five are of sub-editor positions, four are from the news desk, and seventeen are from business section Business Times.\u001b[0m\n",
      " \n",
      "Polarity: 0.00000\n",
      "Subjectivity: 0.00000\n",
      "Insultness: 0.12435\n",
      "\u001b[38;5;16mThis is the biggest retrenchment exercise of the Singapore mainstream newspaper since its creation by the British during colonial times.\u001b[0m\n",
      " \n",
      "Polarity: 0.31250\n",
      "Subjectivity: 0.68750\n",
      "Insultness: 0.20783\n",
      "\u001b[38;5;89mStraits Times is seeing falling readership due to it's lack of credibility and the publics increasing discernment from fake news published on the government-controlled newspaper.\u001b[0m\n",
      " \n",
      "Polarity: 0.30000\n",
      "Subjectivity: 0.51250\n",
      "Insultness: 0.05822\n",
      "\u001b[38;5;89mThe government papers is also seeing increasing pressure from the rise of popular independent news sites like States Times Review.\u001b[0m\n",
      " \n",
      "Polarity: 0.00000\n",
      "Subjectivity: 0.75000\n",
      "Insultness: 0.10062\n",
      "\u001b[38;5;124mAccording to a source close to Straits Times news desk, the retrenchment was sudden and announced only yesterday at 9am when the staff reported for work.\u001b[0m\n",
      " \n",
      "Polarity: 0.00000\n",
      "Subjectivity: 0.70000\n",
      "Insultness: 0.07815\n",
      "\u001b[38;5;88mThis caused massive resentment among the retrenched and uncertainty among the current employees.\u001b[0m\n",
      " \n",
      "Polarity: 0.10000\n",
      "Subjectivity: 0.25000\n",
      "Insultness: 0.00000\n",
      "\u001b[38;5;52mMany current employees do not know if they will be next as readership for the mainstream propaganda papers continue to decline.\u001b[0m\n",
      " \n",
      "([], None)\n"
     ]
    }
   ],
   "source": [
    "sentence_array = tokenizer.tokenize(texty)\n",
    "\n",
    "import numpy as np\n",
    "\n",
    "for sentence in sentence_array:\n",
    "    analysis = TextBlob(sentence)\n",
    "    # analysis.correct() #Correct mispelt words !!! IF YOU ACTIVATE THIS IT'LL BE SLOW\n",
    "    # print(analysis)  # and for each sentence, analyze sentiment\n",
    "    polarity = np.absolute(analysis.sentiment.polarity)\n",
    "    print(\"Polarity: {0:.5f}\".format(polarity))\n",
    "    subjectivity = analysis.sentiment.subjectivity\n",
    "    print(\"Subjectivity: {0:.5f}\".format(subjectivity))\n",
    "    # prep overall analysis tracker, IGNORE if parameters are [0.0, 0.0] for sentence\n",
    "    insult_rating = Insults.rate_comment(sentence)\n",
    "    print(\"Insultness: {0:.5f}\".format(insult_rating))\n",
    "#     print(Insults.foul_language(sentence, context=False))\n",
    "    print('\\x1b[38;5;' \n",
    "          + str(16 + int(4*polarity) + 36*int(4*subjectivity)) \n",
    "          + 'm'\n",
    "          + sentence \n",
    "          +'\\x1b[0m')\n",
    "    print(\" \")\n",
    "\n",
    "print(Insults.foul_language(sentence_array, context=False))"
   ]
  },
  {
   "cell_type": "code",
   "execution_count": 59,
   "metadata": {},
   "outputs": [
    {
     "name": "stdout",
     "output_type": "stream",
     "text": [
      "\u001b[38;5;160m\n",
      "40 reporters from the editorial team at Straits Times were retrenched today (Oct 13) after their parent media group Singapore Press Holdings (SPH) announced a massive retrenchment yesterday.\u001b[0m\n",
      "\u001b[38;5;16mAmong the 40 reporters, seven are from entertainment section Life!, five are of sub-editor positions, four are from the news desk, and seventeen are from business section Business Times.\u001b[0m\n",
      "\u001b[38;5;16mThis is the biggest retrenchment exercise of the Singapore mainstream newspaper since its creation by the British during colonial times.\u001b[0m\n",
      "\u001b[38;5;89mStraits Times is seeing falling readership due to it's lack of credibility and the publics increasing discernment from fake news published on the government-controlled newspaper.\u001b[0m\n",
      "\u001b[38;5;89mThe government papers is also seeing increasing pressure from the rise of popular independent news sites like States Times Review.\u001b[0m\n",
      "\u001b[38;5;124mAccording to a source close to Straits Times news desk, the retrenchment was sudden and announced only yesterday at 9am when the staff reported for work.\u001b[0m\n",
      "\u001b[38;5;88mThis caused massive resentment among the retrenched and uncertainty among the current employees.\u001b[0m\n",
      "\u001b[38;5;52mMany current employees do not know if they will be next as readership for the mainstream propaganda papers continue to decline.\u001b[0m\n",
      "([], None)\n"
     ]
    }
   ],
   "source": [
    "from __future__ import print_function\n",
    "sentence_array = tokenizer.tokenize(texty)\n",
    "import numpy as np\n",
    "\n",
    "for sentence in sentence_array:\n",
    "    analysis = TextBlob(sentence)\n",
    "    # analysis.correct() #Correct mispelt words !!! IF YOU ACTIVATE THIS IT'LL BE SLOW\n",
    "    # and for each sentence, analyze sentiment\n",
    "    polarity = np.absolute(analysis.sentiment.polarity)\n",
    "#     print(\"Polarity: {0:.5f}\".format(polarity))\n",
    "    subjectivity = analysis.sentiment.subjectivity\n",
    "#     print(\"Subjectivity: {0:.5f}\".format(subjectivity))\n",
    "    # prep overall analysis tracker, IGNORE if parameters are [0.0, 0.0] for sentence\n",
    "    insult_rating = Insults.rate_comment(sentence)\n",
    "#     print(\"Insultness: {0:.5f}\".format(insult_rating))\n",
    "#     print(Insults.foul_language(sentence, context=False))\n",
    "    print('\\x1b[38;5;' \n",
    "          + str(16 + int(4*polarity) + 36*int(4*subjectivity)) \n",
    "          + 'm'\n",
    "          + str(analysis) \n",
    "          +'\\x1b[0m')\n",
    "\n",
    "print(Insults.foul_language(sentence_array, context=False))"
   ]
  },
  {
   "cell_type": "code",
   "execution_count": null,
   "metadata": {},
   "outputs": [],
   "source": []
  },
  {
   "cell_type": "code",
   "execution_count": null,
   "metadata": {},
   "outputs": [],
   "source": []
  },
  {
   "cell_type": "code",
   "execution_count": null,
   "metadata": {},
   "outputs": [],
   "source": []
  }
 ],
 "metadata": {
  "kernelspec": {
   "display_name": "Python 2",
   "language": "python",
   "name": "python2"
  },
  "language_info": {
   "codemirror_mode": {
    "name": "ipython",
    "version": 2
   },
   "file_extension": ".py",
   "mimetype": "text/x-python",
   "name": "python",
   "nbconvert_exporter": "python",
   "pygments_lexer": "ipython2",
   "version": "2.7.12"
  }
 },
 "nbformat": 4,
 "nbformat_minor": 2
}
