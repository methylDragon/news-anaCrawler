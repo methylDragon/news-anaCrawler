{
 "cells": [
  {
   "cell_type": "code",
   "execution_count": 12,
   "metadata": {},
   "outputs": [],
   "source": [
    "%run ../'analyseArticle.ipynb'\n",
    "\n",
    "#NLP\n",
    "from pattern.web import Twitter\n",
    "from textblob import TextBlob\n",
    "import nltk.data \n",
    "from nltk.tokenize import word_tokenize, sent_tokenize\n",
    "\n",
    "#NLTK RESOURCE DOWNLOADING\n",
    "try:\n",
    "    nltk.data.find('tokenizers/punkt')\n",
    "except LookupError:\n",
    "    nltk.download('punkt')\n",
    "\n",
    "#PARSER\n",
    "from newspaper import Article\n",
    "import newspaper\n",
    "\n",
    "#set tokenizer model\n",
    "tokenizer = nltk.data.load('tokenizers/punkt/english.pickle')\n",
    "\n"
   ]
  },
  {
   "cell_type": "code",
   "execution_count": 14,
   "metadata": {},
   "outputs": [
    {
     "name": "stdout",
     "output_type": "stream",
     "text": [
      "done\n"
     ]
    }
   ],
   "source": [
    "LINK = \"https://mothership.sg/2017/10/famous-hokkaido-stretchy-cheese-toast-brand-in-spore-to-seek-opportunities-to-open-here/\"\n",
    "\n",
    "parameters = analyseArticle(LINK)\n",
    "\n",
    "print(\"done\")"
   ]
  },
  {
   "cell_type": "code",
   "execution_count": 16,
   "metadata": {},
   "outputs": [
    {
     "name": "stdout",
     "output_type": "stream",
     "text": [
      "en\n"
     ]
    }
   ],
   "source": [
    "print(parameters[\"language\"])"
   ]
  },
  {
   "cell_type": "code",
   "execution_count": null,
   "metadata": {
    "collapsed": true
   },
   "outputs": [],
   "source": [
    "getattr(a,\"meta_lang\")"
   ]
  }
 ],
 "metadata": {
  "kernelspec": {
   "display_name": "Python 3",
   "language": "python",
   "name": "python3"
  },
  "language_info": {
   "codemirror_mode": {
    "name": "ipython",
    "version": 3
   },
   "file_extension": ".py",
   "mimetype": "text/x-python",
   "name": "python",
   "nbconvert_exporter": "python",
   "pygments_lexer": "ipython3",
   "version": "3.5.2"
  }
 },
 "nbformat": 4,
 "nbformat_minor": 2
}
