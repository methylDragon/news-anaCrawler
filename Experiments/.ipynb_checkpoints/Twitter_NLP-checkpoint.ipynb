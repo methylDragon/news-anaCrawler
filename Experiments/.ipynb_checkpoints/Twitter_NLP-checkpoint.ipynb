{
 "cells": [
  {
   "cell_type": "markdown",
   "metadata": {},
   "source": [
    "## NLP Testing Notebook\n",
    "#### NLTK Position Tags:\n",
    "```('And', 'CC'), ('now', 'RB'), ('for', 'IN'), ('something', 'NN'), ('completely', 'RB'), ('different', 'JJ')```\n",
    "\n",
    "*and* is CC, a coordinating conjunction; *now* and *completely* are RB, or adverbs; *for* is IN, a preposition; *something* is NN, a noun; and *different* is JJ, an adjective.\n",
    "\n",
    "```('They', 'PRP'), ('refuse', 'VBP'), ('to', 'TO'), ('permit', 'VB'), ('us', 'PRP'), ('to', 'TO'), ('obtain', 'VB'), ('the', 'DT'), ('refuse', 'NN'), ('permit', 'NN')```\n",
    "\n",
    "*refuse* and *permit* both appear as a present tense verb (VBP) and a noun (NN). E.g. *refUSE* is a verb meaning \"deny,\" while *REFuse* is a noun meaning \"trash\""
   ]
  },
  {
   "cell_type": "code",
   "execution_count": 5,
   "metadata": {
    "collapsed": true
   },
   "outputs": [],
   "source": [
    "from pattern.web import Twitter\n",
    "from pattern.en import tag\n",
    "from pattern.vector import NB, count\n",
    "import sys\n",
    "import time\n",
    "\n",
    "twitter, classifier = Twitter(language=\"en\"), NB(baseline=\"UNDEFINED\")\n",
    "\n",
    "def train_model(n_pts, search_terms, category, category_count):\n",
    "    print(\"Training \" + str(n_pts*100) + \" data points for \" + str(category))\n",
    "    for i in range(1, n_pts):\n",
    "        for tweet in twitter.search(search_terms, start=i, count=100):\n",
    "            s = tweet.text.lower()\n",
    "            p = category\n",
    "            category_count+=1\n",
    "            v = tag(s)\n",
    "            v = [word for word, pos in v if (pos == \"NN\" or pos == \"VB\")]\n",
    "            v = count(v) # {'sweet': 1}\n",
    "            if v:\n",
    "                classifier.train(v, type=p)\n",
    "                sys.stdout.write('\\r')\n",
    "                sys.stdout.write(str(int(category_count/(n_pts*100)*100)) + \"% : \" + str(v))\n",
    "    sys.stdout.write('\\r')\n",
    "    print(\"Finished!\")\n",
    "    print(\"Number of data points: \" + str(category_count) + \"\\n\")"
   ]
  },
  {
   "cell_type": "code",
   "execution_count": 6,
   "metadata": {
    "scrolled": true
   },
   "outputs": [
    {
     "name": "stdout",
     "output_type": "stream",
     "text": [
      "Training 3000 data points for HAPPY\n",
      "Finished!ttps://t.co/ynuox5emzp': 1, 'combination': 1, 'cocktails…': 1, 'rt': 1, '@imperialdurbar': 1, 'papper': 1, 'basil': 1, 'gin': 3}1, 'convince': 1, '@realskipbayless': 1, 'god': 1}nity': 1} 'https://t.co/tx7lfsddmu': 1}\n",
      "Number of data points: 2795\n",
      "\n",
      "Training 3000 data points for SAD\n",
      "Finished!': 1, 'person': 1, 'look': 1, 'lot': 1, '@kelsey_maya': 1, 'rt': 1}…': 1, 'damage': 1, 'aim': 1} 'nfl': 1, '@realdonaldtrump': 1}uellersknife': 1, '@nbcnews': 1}': 1, 'amp': 1}': 1}sknife': 1}1}\n",
      "Number of data points: 2900\n",
      "\n"
     ]
    }
   ],
   "source": [
    "n = 30\n",
    "happy = 0\n",
    "sad = 0\n",
    "\n",
    "train_model(n, \"shiok OR swee OR perfect OR #happy\", \"HAPPY\", happy)\n",
    "time.sleep(1)\n",
    "train_model(n, \"sian OR shag OR suay OR fml OR #sad\", \"SAD\", sad)"
   ]
  },
  {
   "cell_type": "code",
   "execution_count": 7,
   "metadata": {},
   "outputs": [
    {
     "name": "stdout",
     "output_type": "stream",
     "text": [
      "The word pangseh is SAD\n",
      "The word nasi lemak is SAD\n",
      "The word food is HAPPY\n",
      "The word breakfast is HAPPY\n",
      "The word lunch is SAD\n",
      "The word dinner is SAD\n",
      "The word MRT is SAD\n",
      "The word school is SAD\n",
      "The word trip is HAPPY\n",
      "The word work is SAD\n",
      "The word home is SAD\n",
      "The word family is HAPPY\n",
      "The word garden is SAD\n",
      "The word play is SAD\n",
      "The word train is SAD\n",
      "The word bus is SAD\n",
      "The word KFC is SAD\n",
      "The word SAF is SAD\n",
      "The word book out is HAPPY\n",
      "The word camp is HAPPY\n",
      "The word army is SAD\n",
      "The word navy is HAPPY\n",
      "The word air force is HAPPY\n"
     ]
    }
   ],
   "source": [
    "def evaluate(word):\n",
    "    category = classifier.classify(word)\n",
    "    return (\"The word \" + str(word) + \" is \" + str(category))\n",
    "    \n",
    "words = (\"pangseh\",\"nasi lemak\",\"food\",\"breakfast\",\"lunch\",\"dinner\",\"MRT\",\"school\",\"trip\",\"work\",\"home\",\"family\",\"garden\",\"play\",\"train\",\"bus\",\"KFC\",\"SAF\",\"book out\",\"camp\",\"army\",\"navy\",\"air force\",)\n",
    "    \n",
    "for word in words:\n",
    "    print(evaluate(word))"
   ]
  },
  {
   "cell_type": "code",
   "execution_count": null,
   "metadata": {
    "collapsed": true
   },
   "outputs": [],
   "source": []
  }
 ],
 "metadata": {
  "kernelspec": {
   "display_name": "Python 3",
   "language": "python",
   "name": "python3"
  },
  "language_info": {
   "codemirror_mode": {
    "name": "ipython",
    "version": 3
   },
   "file_extension": ".py",
   "mimetype": "text/x-python",
   "name": "python",
   "nbconvert_exporter": "python",
   "pygments_lexer": "ipython3",
   "version": "3.5.2"
  }
 },
 "nbformat": 4,
 "nbformat_minor": 2
}
