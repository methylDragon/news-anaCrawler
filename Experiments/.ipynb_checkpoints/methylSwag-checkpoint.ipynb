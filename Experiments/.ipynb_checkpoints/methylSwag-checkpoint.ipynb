{
 "cells": [
  {
   "cell_type": "markdown",
   "metadata": {},
   "source": [
    "# SWAG"
   ]
  },
  {
   "cell_type": "code",
   "execution_count": 114,
   "metadata": {},
   "outputs": [],
   "source": [
    "def methylSwag():\n",
    "\n",
    "    dragon = \"\"\"                           .     .\n",
    "                        .  |\\-^-/|  .    \n",
    "                       /| } O.=.O { |\\  \n",
    "                      /´ \\ \\_ ~ _/ / `\\\\\n",
    "                    /´ |  \\-/ ~ \\-/  | `\\\\\n",
    "                    |   |  /\\\\\\ //\\  |   | \n",
    "                     \\|\\|\\/-\"\"-\"\"-\\/|/|/\n",
    "                             ______/ /\n",
    "                             '------'\"\"\"\n",
    "    \n",
    "    dragonALT1 = \"\"\"                        .     .\n",
    "                          . |\\-^-/| .    \n",
    "                         /| |O.=.O| |\\  \n",
    "                       /´ \\ \\_ ~ _/ / `\\\\\n",
    "                     /´ | \\ -/ ~ \\-/  | `\\\\\n",
    "                     |   |  /\\\\\\ //\\  |   | \n",
    "                      \\|\\|\\/-\"\"-\"\"-\\/|/|/\\ \n",
    "                                 ______/ /\n",
    "                                 '------'\"\"\"\n",
    "\n",
    "    dragonALT2 = \"\"\"                        .     .\n",
    "                          . |\\-^-/| .\n",
    "                         /| |O.=.O| |\\\\\n",
    "                       /´ \\ \\_ ~ _/ / `\\\\\n",
    "                     /´ | \\ -/ ~ \\-/  | `\\\\\n",
    "                     |   |  /\\\\\\ //\\  |   |\n",
    "                      \\|\\|\\/-\"\"-\"\"-\\/|/|/\"\"\"\n",
    "\n",
    "    \n",
    "\n",
    "\n",
    "\n",
    "\n",
    "    methylDragon = \"\"\"                _   _        _  ___                         \n",
    "      _ __  ___| |_| |_ _  _| ||   \\ _ _ __ _ __ _ ___ _ _  \n",
    "     | '  \\/ -_)  _| ' \\ || | || |) | '_/ _` / _` / _ \\ ' \\ \n",
    "     |_|_|_\\___|\\__|_||_\\_, |_||___/|_| \\__,_\\__, \\___/_||_|\n",
    "                        |__/                |___/          \"\"\"\n",
    "\n",
    "    print(dragon)\n",
    "    print(methylDragon)\n",
    "    print(\"     -------------------------------------------------------\")\n",
    "    print(\"     methylDragon.com\\n\".center(60))\n",
    "    \n",
    "def methylHalf():\n",
    "    \n",
    "    dragonHalf = '''                            .     .\n",
    "                         .  |\\-^-/|  .    \n",
    "                        /| } O.=.O { |\\  '''\n",
    "    \n",
    "    print(dragonHalf)\n",
    "    \n",
    "def rawr():\n",
    "    print(\"  ---!!--!!-raa--rawr-=rAwR=*RAAWR*=rAwR=-rawr--raa-!!--!!---\")"
   ]
  },
  {
   "cell_type": "code",
   "execution_count": null,
   "metadata": {
    "collapsed": true
   },
   "outputs": [],
   "source": []
  }
 ],
 "metadata": {
  "kernelspec": {
   "display_name": "Python 3",
   "language": "python",
   "name": "python3"
  },
  "language_info": {
   "codemirror_mode": {
    "name": "ipython",
    "version": 3
   },
   "file_extension": ".py",
   "mimetype": "text/x-python",
   "name": "python",
   "nbconvert_exporter": "python",
   "pygments_lexer": "ipython3",
   "version": "3.5.2"
  }
 },
 "nbformat": 4,
 "nbformat_minor": 2
}
