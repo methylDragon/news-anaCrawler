{
 "cells": [
  {
   "cell_type": "markdown",
   "metadata": {},
   "source": [
    "# Mothership Crawl Test\n",
    "\n",
    "#### Author: methylDragon (methylDragon.com)"
   ]
  },
  {
   "cell_type": "code",
   "execution_count": 1,
   "metadata": {
    "collapsed": true
   },
   "outputs": [],
   "source": [
    "%run 'analyseArticle.ipynb'\n",
    "%run 'examineArticle.ipynb'"
   ]
  },
  {
   "cell_type": "code",
   "execution_count": 2,
   "metadata": {},
   "outputs": [
    {
     "name": "stdout",
     "output_type": "stream",
     "text": [
      "https://mothership.sg/2017/10/famous-hokkaido-stretchy-cheese-toast-brand-in-spore-to-seek-opportunities-to-open-here/\n",
      "https://mothership.sg/2017/10/health-sciences-authority-rebuts-claim-its-officers-acted-like-thugs/\n",
      "https://mothership.sg/2017/10/fake-news-groom-in-china-did-not-die-after-being-dropped-on-his-head-during-wedding-game/\n",
      "https://mothership.sg/2017/10/sph-to-cut-230-jobs-130-of-these-will-be-retrenchments/\n",
      "https://mothership.sg/2017/10/spore-self-heating-hotpot-distributor-blames-agency-for-not-declaring-meat-in-instant-hotpots/\n",
      "https://mothership.sg/2017/10/worried-about-religious-divide-malaysias-monarchs-make-rare-collective-call-for-greater-tolerance-and-respect/\n",
      "https://mothership.sg/2017/10/pm-lee-set-to-shake-us-president-donald-trumps-hand-for-second-time-on-oct-23/\n",
      "https://mothership.sg/2017/10/cna-producer-juwon-park-repeatedly-discouraged-from-complaining-to-hr-about-sexism/\n",
      "https://mothership.sg/2017/10/news-of-taiwanese-villagers-protesting-against-spore-is-6-months-old-not-new/\n",
      "https://mothership.sg/2017/10/about-25-percent-of-singapores-students-have-been-bullied-in-school/\n",
      "https://mothership.sg/2017/10/an-open-letter-from-a-former-struggling-student-in-spore/\n",
      "https://mothership.sg/2017/10/a-formal-letter-to-cai-png-aunties-uncles-in-spore/\n",
      "https://mothership.sg/2017/10/so-will-mrt-work-on-monday-sporeans-plan-ahead-without-credible-transport-alternatives/\n",
      "https://mothership.sg/2017/10/chinese-sporean-woman-recognised-her-chinese-ness-after-strange-men-hit-on-her-in-europe/\n",
      "https://mothership.sg/2017/10/pap-nervous-pm-esm-2-dpms-2-other-ministers-have-addressed-elected-presidency-anger/\n",
      "https://mothership.sg/2017/10/bilahari-kausikan-asean-is-imperfect-but-its-incoherence-sometimes-is-not-a-bad-thing/\n",
      "https://mothership.sg/2017/10/hazy-talk-we-measure-the-relative-psi-of-every-minister-who-spoke-on-counting-elected-presidency-terms/\n",
      "https://mothership.sg/2017/10/isis-falsely-claimed-responsibility-for-las-vegas-shooting-the-media-had-to-report-on-it/\n",
      "https://mothership.sg/2017/10/new-york-times-article-praises-spores-healthcare-system-to-high-heavens/\n",
      "https://mothership.sg/2017/09/workers-partys-new-hq-on-outskirts-of-geylang-is-a-modest-reflection-of-where-they-are-now/\n",
      "https://mothership.sg/2017/10/mph-has-stood-for-different-names-in-the-past-but-they-still-sell-books/\n",
      "https://mothership.sg/2017/10/hdb-things-we-are-so-used-to-now-but-will-probably-not-miss-in-10-years-time/\n",
      "https://mothership.sg/2017/10/straits-times-reports-vending-machines-selling-halal-certified-headscarves-everyone-confused/\n",
      "https://mothership.sg/2017/10/this-is-the-story-of-a-whatsapp-bro-named-xiao-andy-who-broke-the-bro-code-for-100/\n",
      "https://mothership.sg/2017/10/if-you-are-already-applying-for-a-credit-card-why-not-apply-it-here-and-get-150-grab-credits/\n",
      "https://mothership.sg/2017/10/a-formal-letter-to-cai-png-aunties-uncles-in-spore/\n",
      "https://mothership.sg/2017/10/yes-it-was-indeed-speaker-of-parl-tan-chuan-jin-eating-bak-kut-teh-with-wp-chief-low-thia-khiang/\n",
      "https://mothership.sg/2017/10/sporeans-are-one-of-the-fastest-dumb-phone-texters-in-the-world/\n",
      "https://mothership.sg/2017/10/about-25-percent-of-singapores-students-have-been-bullied-in-school/\n",
      "https://mothership.sg/2017/10/if-you-forgot-to-take-your-s1190-from-woodlands-town-centre-posb-atm-a-good-samaritan-has-it/\n",
      "https://mothership.sg/2017/10/the-sporean-whose-bright-academic-career-in-spore-ended-for-non-academic-reasons/\n",
      "https://mothership.sg/2017/09/nac-deputy-ceo-congratulated-sonny-liew-actually-said-the-art-of-charlie-chan-hock-chye/\n",
      "https://mothership.sg/2017/08/salleh-marican-feels-sporeans-will-be-angry-if-they-dont-get-a-chance-to-vote-for-their-president/\n",
      "https://mothership.sg/2017/08/presidential-hopeful-farid-khan-doesnt-just-want-to-be-a-recipient-of-anti-papgovt-votes/\n",
      "https://mothership.sg/2017/08/how-halimah-yacob-found-herself-in-the-running-to-be-spores-first-female-president/\n",
      "https://mothership.sg/2017/07/spores-no-1-salesman-beh-swan-gin-is-a-trained-medical-doctor-who-cant-save-lives/\n",
      "https://mothership.sg/2017/07/chan-chun-sing-doesnt-think-his-military-background-is-a-limitation-leadership-style-is-to-value-add/\n",
      "https://mothership.sg/2017/07/internationally-famous-for-sporean-beatboxer-dharni-the-world-is-truly-his-oyster/\n",
      "https://mothership.sg/2017/06/almost-famous-we-interview-ourselves-to-find-out-why-our-videos-suddenly-look-so-kilat/\n",
      "https://mothership.sg/2017/06/almost-famous-spores-only-full-time-professional-clown-is-now-the-worlds-best/\n",
      "https://mothership.sg/2017/10/about-25-percent-of-singapores-students-have-been-bullied-in-school/\n",
      "https://mothership.sg/2017/10/reporters-without-borders-whack-spore-ministers-whack-reporters-without-borders-repeat/\n",
      "https://mothership.sg/2017/10/job-seekers-can-look-forward-to-better-recruitment-standards-but-they-still-may-not-be-informed-of-rejections/\n",
      "https://mothership.sg/2017/10/we-have-to-win-the-fight-for-hearts-and-minds-k-shanmugam-on-terrorism/\n",
      "https://mothership.sg/2017/10/here-are-the-full-speeches-given-by-sylvia-lim-k-shanmugam-on-the-reserved-presidential-election/\n",
      "https://mothership.sg/2017/10/deciding-who-is-the-first-elected-president-is-a-policy-decision-not-a-legal-matter-k-shanmugam/\n",
      "https://mothership.sg/2017/10/new-anti-smoking-bill-means-you-have-to-be-21-before-you-can-smoke/\n",
      "https://mothership.sg/2017/10/there-were-more-than-400-cases-of-domestic-violence-against-older-women-every-year-since-2014-confirms-desmond-lee/\n",
      "https://mothership.sg/2017/10/third-time-lucky-for-sylvia-lim-as-her-adjournment-motion-on-the-reserved-presidency-was-picked-from-the-ballot/\n",
      "https://mothership.sg/2017/10/buikt-panjang-peeps-rejoice-tender-for-lrt-overhaul-to-be-called-by-end-2017/\n",
      "https://mothership.sg/2017/10/this-is-the-story-of-a-whatsapp-bro-named-xiao-andy-who-broke-the-bro-code-for-100/\n",
      "https://mothership.sg/2017/10/woman-evades-paying-10-90-taxi-fare-for-a-week-says-she-is-busy-looking-for-money/\n",
      "https://mothership.sg/2017/10/sporeans-are-one-of-the-fastest-dumb-phone-texters-in-the-world/\n",
      "https://mothership.sg/2017/10/geyser-spotted-in-jurong-west-becomes-3rd-water-feature-to-spontaneously-appear-in-western-spore/\n",
      "https://mothership.sg/2017/10/do-chio-bus-get-more-cai-png-ingredients-son-of-stall-owners-answers-this-and-more-in-qa/\n",
      "https://mothership.sg/2017/10/ava-fines-importers-of-self-heating-instant-hotpots-after-straits-times-publicised-it/\n",
      "https://mothership.sg/2017/10/mega-yacht-owned-by-microsoft-co-founder-paul-allen-spotted-in-singapore/\n",
      "https://mothership.sg/2017/10/sporean-randomly-leaves-handwritten-calligraphy-notes-all-around-spore-for-strangers/\n",
      "https://mothership.sg/2017/10/smoking-under-shelter-nea/\n",
      "https://mothership.sg/2017/10/katongs-name-comes-from-a-sea-mirage-you-see-when-looking-at-the-shoreline/\n"
     ]
    }
   ],
   "source": [
    "import requests\n",
    "from bs4 import BeautifulSoup\n",
    "\n",
    "URLs = [\"mothership.sg/category/news\",\"mothership.sg/category/perspectives\",\"mothership.sg/category/community\",\"mothership.sg/category/almost-famous\",\"mothership.sg/category/mps-in-the-house\",\"mothership.sg/category/humour\"]\n",
    "\n",
    "for url in URLs:\n",
    "    sourceCode = requests.get(\"http://\" + str(url))\n",
    "\n",
    "    soup = BeautifulSoup(sourceCode.content, \"lxml\")\n",
    "\n",
    "    for div in soup.find_all(\"div\", class_=\"ind-article\"):\n",
    "        for a in div.find_all(\"a\"):\n",
    "            if \"mothership.sg\" in a.get(\"href\"):\n",
    "                print(a.get(\"href\"))"
   ]
  },
  {
   "cell_type": "code",
   "execution_count": null,
   "metadata": {
    "collapsed": true
   },
   "outputs": [],
   "source": []
  }
 ],
 "metadata": {
  "kernelspec": {
   "display_name": "Python 3",
   "language": "python",
   "name": "python3"
  },
  "language_info": {
   "codemirror_mode": {
    "name": "ipython",
    "version": 3
   },
   "file_extension": ".py",
   "mimetype": "text/x-python",
   "name": "python",
   "nbconvert_exporter": "python",
   "pygments_lexer": "ipython3",
   "version": "3.5.2"
  }
 },
 "nbformat": 4,
 "nbformat_minor": 2
}
