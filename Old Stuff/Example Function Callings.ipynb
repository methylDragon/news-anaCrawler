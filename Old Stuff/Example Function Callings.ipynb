{
 "cells": [
  {
   "cell_type": "markdown",
   "metadata": {},
   "source": [
    "# EXAMPLE examineArticle Call"
   ]
  },
  {
   "cell_type": "code",
   "execution_count": 5,
   "metadata": {},
   "outputs": [
    {
     "name": "stdout",
     "output_type": "stream",
     "text": [
      "\u001b[1mSTART OF ARTICLE - START OF ARTICLE - START OF ARTICLE - START OF ARTICLE - START OF ARTICLE\u001b[0;0m\n",
      "\n",
      "-----\n",
      "\u001b[1mMETADATA\u001b[0;0m\n",
      "-----\n",
      "\u001b[1mTitle: \u001b[0;0mMinister Lim Swee Say: Hiring Singaporeans lead to economic stagnation and decline – States Times Review\n",
      "\u001b[1mAuthor(s): \u001b[0;0m[]\n",
      "\u001b[1mKeywords: \u001b[0;0m['stagnation', 'growth', 'lead', 'say', 'lim', 'states', 'review', 'times', 'economic', 'contingent', 'manpower', 'day', 'workforce', 'local', 'singaporeans', 'national', 'minister', 'swee']\n",
      "\u001b[1mDate: \u001b[0;0m2017-09-30 00:00:00\n",
      "\u001b[1mTop Image: \u001b[0;0mhttps://statestimesreview.com/wp-content/uploads/2015/09/q4-e1460246116665.jpg\n",
      "\u001b[1mVideos: \u001b[0;0m[]\n",
      "\n",
      "-----\n",
      "\u001b[1mSUMMARY\u001b[0;0m\n",
      "-----\n",
      "In his speech at an award dinner yesterday (Sep 29), Manpower Minister Lim Swee Say claimed that hiring locals will lead to economic stagnation and so there is a need to hire more foreigners:“The Manpower Ministry (MOM) strives to strike a balance between being pro-business and pro-worker in the face of Singapore’s demographic trends and slowing local workforce growth.\n",
      "Economic growth without local employment growth will lead to social tension and increased social divide.\n",
      "Likewise, local employment growth without economic growth will lead to economic stagnation and decline”Minister Lim Swee Say called for Singaporeans to attend short-stint training provided by SkillsFuture, and came out with a new term “glocal”:“Companies should nurture more “glocal” talents – locals with global experience.\n",
      "“Leave your comfort zone and take on new challenges.\n",
      "Maybe some years from now, the day will come when we have a marching contingent of glocal talents at one of our National Day Parades, carying display cards that say ‘We are still number 1’.”\n",
      "\n",
      "-----\n",
      "\u001b[1mANALYSIS\u001b[0;0m\n",
      "-----\n",
      "In his speech at an award dinner yesterday (Sep 29), Manpower Minister Lim Swee Say claimed that hiring locals will lead to economic stagnation and so there is a need to hire more foreigners:\n",
      "\n",
      "“The Manpower Ministry (MOM) strives to strike a balance between being pro-business and pro-worker in the face of Singapore’s demographic trends and slowing local workforce growth.\u001b[1m\n",
      "Polarity: 0.23333    Subjectivity: 0.23333\n",
      "\u001b[0;0m-----\n",
      "Economic growth without local employment growth will lead to social tension and increased social divide.\u001b[1m\n",
      "Polarity: 0.06667    Subjectivity: 0.08333\n",
      "\u001b[0;0m-----\n",
      "Likewise, local employment growth without economic growth will lead to economic stagnation and decline”\n",
      "\n",
      "Minister Lim Swee Say called for Singaporeans to attend short-stint training provided by SkillsFuture, and came out with a new term “glocal”:\n",
      "\n",
      "“Companies should nurture more “glocal” talents – locals with global experience.\u001b[1m\n",
      "Polarity: 0.17273    Subjectivity: 0.22576\n",
      "\u001b[0;0m-----\n",
      "They can groomed for top managment roles as well as be equipped with world-class skills which will be in demand, such as in cyber-security, data analytics, digital services, artificial intelligence and running smart factories… Local workers can do their part in learning continuously.\u001b[1m\n",
      "Polarity: 0.01905    Subjectivity: 0.44048\n",
      "\u001b[0;0m-----\n",
      "“Leave your comfort zone and take on new challenges.\u001b[1m\n",
      "Polarity: 0.13636    Subjectivity: 0.45455\n",
      "\u001b[0;0m-----\n",
      "Broaden your horizons and exposure.\u001b[1m\n",
      "Polarity: 0.00000    Subjectivity: 0.00000\n",
      "\u001b[0;0m-----\n",
      "Take up regional postings, get to know Asia better and build up your networks.”\n",
      "\n",
      "The Manpower Minister then said that he wants to put up a marching contingent at the National Day Parade, carrying a banner saying “#1 Workforce in the world”:\n",
      "\n",
      "“In the 1980s, the National Day Parade worker contingent would carry display cards reading “#1 Workforce in the World”.\u001b[1m\n",
      "Polarity: -0.00000    Subjectivity: 0.37778\n",
      "\u001b[0;0m-----\n",
      "Maybe some years from now, the day will come when we have a marching contingent of glocal talents at one of our National Day Parades, carying display cards that say ‘We are still number 1’.”\u001b[1m\n",
      "Polarity: -0.10000    Subjectivity: 0.60000\n",
      "\u001b[0;0m-----\n",
      "\n",
      "-----\n",
      "\u001b[1mOVERALL SENTIMENT\u001b[0;0m\n",
      "-----\n",
      "\u001b[1mPolarity: \u001b[0;0m0.07545   |   \u001b[1mSubjectivity: \u001b[0;0m0.34503\u001b[0;0m\n",
      "\n",
      "\u001b[1mEND OF ARTICLE - END OF ARTICLE - END OF ARTICLE - END OF ARTICLE - END OF ARTICLE\u001b[0;0m\n"
     ]
    }
   ],
   "source": [
    "%run 'examineArticle.ipynb'\n",
    "\n",
    "examineArticle(\"https://statestimesreview.com/2017/09/30/minister-lim-swee-say-hiring-singaporeans-lead-to-economic-stagnation-and-decline/\")"
   ]
  },
  {
   "cell_type": "code",
   "execution_count": null,
   "metadata": {
    "collapsed": true
   },
   "outputs": [],
   "source": []
  }
 ],
 "metadata": {
  "kernelspec": {
   "display_name": "Python 3",
   "language": "python",
   "name": "python3"
  },
  "language_info": {
   "codemirror_mode": {
    "name": "ipython",
    "version": 3
   },
   "file_extension": ".py",
   "mimetype": "text/x-python",
   "name": "python",
   "nbconvert_exporter": "python",
   "pygments_lexer": "ipython3",
   "version": "3.5.2"
  }
 },
 "nbformat": 4,
 "nbformat_minor": 2
}
