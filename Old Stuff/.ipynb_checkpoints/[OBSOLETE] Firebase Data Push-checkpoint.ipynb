{
 "cells": [
  {
   "cell_type": "code",
   "execution_count": 1,
   "metadata": {
    "collapsed": true
   },
   "outputs": [],
   "source": [
    "%run 'analyseArticle.ipynb'\n",
    "%run 'Firebase.ipynb'"
   ]
  },
  {
   "cell_type": "code",
   "execution_count": null,
   "metadata": {
    "collapsed": true
   },
   "outputs": [],
   "source": [
    "parameters = analyseArticle(\"http://www.cnn.com/2013/11/27/justice/tucson-arizona-captive-girls/\")\n",
    "\n",
    "title = str()\n",
    "url = str()\n",
    "authors = str(parameters[\"authors\"])\n",
    "date = str(parameters[\"date\"])\n",
    "summary = str(parameters[\"summary\"])\n",
    "polarity = str(parameters[\"polarity\"])\n",
    "subjectivity = str(parameters[\"subjectivity\"])\n",
    "keywords = str(parameters[\"keywords\"])\n",
    "images = str(parameters[\"images\"])\n",
    "videos = str(parameters[\"videos\"])\n",
    "text = str(parameters[\"text\"])\n",
    "\n",
    "sendToFirebase(parameters[\"title\"], parameters[\"url\"], parameters[\"authors\"], parameters[\"date\"], parameters[\"summary\"], parameters[\"polarity\"], parameters[\"subjectivity\"], parameters[\"keywords\"], images, videos, text)\n",
    "\n"
   ]
  },
  {
   "cell_type": "code",
   "execution_count": null,
   "metadata": {
    "collapsed": true
   },
   "outputs": [],
   "source": [
    "\n"
   ]
  }
 ],
 "metadata": {
  "kernelspec": {
   "display_name": "Python 3",
   "language": "python",
   "name": "python3"
  },
  "language_info": {
   "codemirror_mode": {
    "name": "ipython",
    "version": 3
   },
   "file_extension": ".py",
   "mimetype": "text/x-python",
   "name": "python",
   "nbconvert_exporter": "python",
   "pygments_lexer": "ipython3",
   "version": "3.5.2"
  }
 },
 "nbformat": 4,
 "nbformat_minor": 2
}
