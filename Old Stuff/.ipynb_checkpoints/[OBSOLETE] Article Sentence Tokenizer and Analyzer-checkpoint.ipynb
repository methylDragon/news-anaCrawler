{
 "cells": [
  {
   "cell_type": "markdown",
   "metadata": {},
   "source": [
    "-*- coding: utf-8 -*-\n",
    "\n",
    "Author: methylDragon (methylDragon.com)\n",
    "\n",
    "\"Raa.\""
   ]
  },
  {
   "cell_type": "markdown",
   "metadata": {},
   "source": [
    "# Setting Up"
   ]
  },
  {
   "cell_type": "code",
   "execution_count": 7,
   "metadata": {
    "collapsed": true
   },
   "outputs": [],
   "source": [
    "#NLP\n",
    "from pattern.web import Twitter\n",
    "from textblob import TextBlob\n",
    "import nltk.data \n",
    "from nltk.tokenize import word_tokenize, sent_tokenize\n",
    "\n",
    "#NLTK RESOURCE DOWNLOADING\n",
    "try:\n",
    "    nltk.data.find('tokenizers/punkt')\n",
    "except LookupError:\n",
    "        nltk.download('punkt')\n",
    "\n",
    "#PARSER\n",
    "from newspaper import Article\n",
    "import newspaper\n",
    "\n",
    "#set tokenizer model\n",
    "tokenizer = nltk.data.load('tokenizers/punkt/english.pickle')\n",
    "\n"
   ]
  },
  {
   "cell_type": "markdown",
   "metadata": {},
   "source": [
    "\n",
    "\n",
    "# Declare URL, Download, and Parse Article"
   ]
  },
  {
   "cell_type": "code",
   "execution_count": 39,
   "metadata": {
    "collapsed": true
   },
   "outputs": [],
   "source": [
    "#list, download, and parse article\n",
    "a = Article(\"http://www.theindependent.sg/the-rule-of-law-has-been-mercilessly-mocked-and-denigrated-chee-soon-juan-on-pe2017/\", language='en') # Set language as english\n",
    "a.download()\n",
    "a.parse()\n",
    "a.nlp()\n"
   ]
  },
  {
   "cell_type": "markdown",
   "metadata": {},
   "source": [
    "# Analyze Article"
   ]
  },
  {
   "cell_type": "code",
   "execution_count": 40,
   "metadata": {},
   "outputs": [
    {
     "name": "stdout",
     "output_type": "stream",
     "text": [
      "\u001b[1mSTART OF ARTICLE - START OF ARTICLE - START OF ARTICLE - START OF ARTICLE - START OF ARTICLE\u001b[0;0m\n",
      "\n",
      "-----\n",
      "\u001b[1mMETADATA\u001b[0;0m\n",
      "-----\n",
      "\u001b[1mTitle: \u001b[0;0m“The rule of law has been mercilessly mocked and denigrated” – Chee Soon Juan on PE2017\n",
      "\u001b[1mAuthor(s): \u001b[0;0m['Jewel Philemon']\n",
      "\u001b[1mKeywords: \u001b[0;0m['revised', 'pe2017', 'law', 'juan', 'walkover', 'singapore', 'yacob', 'party', 'chee', 'presidential', 'system', 'election', 'mercilessly', 'soon', 'pap', 'mocked', 'denigrated', 'rule']\n",
      "\u001b[1mDate: \u001b[0;0mNone\n",
      "\u001b[1mTop Image: \u001b[0;0mhttp://media.theindependent.sg/wp-content/uploads/2017/08/cheehali.jpg\n",
      "\u001b[1mVideos: \u001b[0;0m[]\n",
      "\n",
      "-----\n",
      "\u001b[1mSUMMARY\u001b[0;0m\n",
      "-----\n",
      "The PAP had changed the rules and revised the criteria of the Elected Presidency to pave the way for Ms Halimah Yacob to assume the office.\n",
      "The rule of law has been mercilessly mocked and denigrated.\n",
      "That the goal is detrimental to the interests and progress of Singapore is of secondary concern to the party.\n",
      "“It is bad enough that the PAP has manipulated the system to get one if its own to become the president.\n",
      "“The SDP protests this outcome in the strongest manner possible.”The walkover of the Presidential Election comes as no surprise.\n",
      "\n",
      "-----\n",
      "\u001b[1mANALYSIS\u001b[0;0m\n",
      "-----\n",
      "Opposition politician Chee Soon Juan harshly criticised the outcome of the Presidential Election 2017 that was released this week, that former Speaker of Parliament Halimah Yacob would be the next head of state via walkover since the two other hopefuls do not qualify for the presidential race since they do not meet revised eligibility requirements.\u001b[1m\n",
      "Sentiment(polarity=-0.08125, subjectivity=0.26875)\n",
      "\u001b[0;0m-----\n",
      "Republishing his party, the Singapore Democratic Party’s (SDP) official statement on his personal Facebook page, Dr Chee indicated that the ruling People’s Action Party has “manipulated the system” to get one of its own into power, and that the PAP should be condemned for its “contempt” of the constitution:\n",
      "\n",
      "“The walkover of the Presidential Election comes as no surprise.\u001b[1m\n",
      "Sentiment(polarity=0.2333333333333333, subjectivity=0.4666666666666666)\n",
      "\u001b[0;0m-----\n",
      "The PAP had changed the rules and revised the criteria of the Elected Presidency to pave the way for Ms Halimah Yacob to assume the office.\u001b[1m\n",
      "Sentiment(polarity=0.0, subjectivity=0.0)\n",
      "\u001b[0;0m-----\n",
      "“Nevertheless, this is a sad day for Singapore.\u001b[1m\n",
      "Sentiment(polarity=-0.5, subjectivity=1.0)\n",
      "\u001b[0;0m-----\n",
      "The rule of law has been mercilessly mocked and denigrated.\u001b[1m\n",
      "Sentiment(polarity=-0.7, subjectivity=1.0)\n",
      "\u001b[0;0m-----\n",
      "The contempt the PAP has shown for our constitution and our flag which symbolises the ideals of democracy, unity and progress must be roundly condemned.\u001b[1m\n",
      "Sentiment(polarity=-0.2, subjectivity=0.4)\n",
      "\u001b[0;0m-----\n",
      "“By doing what it has done, the PAP has shown yet again that its only goal is to strengthen its grip on power.\u001b[1m\n",
      "Sentiment(polarity=0.0, subjectivity=1.0)\n",
      "\u001b[0;0m-----\n",
      "That the goal is detrimental to the interests and progress of Singapore is of secondary concern to the party.\u001b[1m\n",
      "Sentiment(polarity=-0.3, subjectivity=0.3)\n",
      "\u001b[0;0m-----\n",
      "“It is bad enough that the PAP has manipulated the system to get one if its own to become the president.\u001b[1m\n",
      "Sentiment(polarity=-0.03333333333333329, subjectivity=0.7222222222222222)\n",
      "\u001b[0;0m-----\n",
      "That it has dangerously played the race card and divided the people to achieve this must be of grave concern to all Singaporeans.\u001b[1m\n",
      "Sentiment(polarity=-0.6, subjectivity=0.9)\n",
      "\u001b[0;0m-----\n",
      "“The SDP protests this outcome in the strongest manner possible.”\n",
      "\n",
      "The walkover of the Presidential Election comes as no surprise.\u001b[1m\n",
      "Sentiment(polarity=0.0, subjectivity=1.0)\n",
      "\u001b[0;0m-----\n",
      "The PAP had changed the rules and revised the criteria… Posted by Chee Soon Juan 徐顺全 on Monday, 11 September 2017\n",
      "\n",
      "Halimah Yacob will be sworn in as the eighth President of Singapore tomorrow at 6pm at the Istana.\u001b[1m\n",
      "Sentiment(polarity=0.0, subjectivity=0.0)\n",
      "\u001b[0;0m-----\n",
      "\n",
      "-----\n",
      "\u001b[1mOVERALL SENTIMENT\u001b[0;0m\n",
      "-----\n",
      "\u001b[1mPolarity: \u001b[0;0m-0.27265625   |   \u001b[1mSubjectivity: \u001b[0;0m0.6322048611111111\u001b[0;0m\n",
      "\n",
      "\u001b[1mEND OF ARTICLE - END OF ARTICLE - END OF ARTICLE - END OF ARTICLE - END OF ARTICLE\u001b[0;0m\n"
     ]
    }
   ],
   "source": [
    "#Quality of life bold delimiters\n",
    "b = \"\\033[1m\"\n",
    "endb = \"\\033[0;0m\"\n",
    "\n",
    "#START OF ARTICLE\n",
    "print(b + \"START OF ARTICLE - START OF ARTICLE - START OF ARTICLE - START OF ARTICLE - START OF ARTICLE\" + endb)\n",
    "\n",
    "#Overall sentiment trackers\n",
    "count = 0\n",
    "overallScore = [0.0,0.0]\n",
    "\n",
    "#Print meta-data\n",
    "print(\"\\n-----\\n\" + b + \"METADATA\" + endb + \"\\n-----\")\n",
    "print(b + \"Title: \" + endb, end=\"\")\n",
    "print(a.title)\n",
    "print(b + \"Author(s): \" + endb, end=\"\")\n",
    "print(a.authors)\n",
    "print(b + \"Keywords: \" + endb, end=\"\")\n",
    "print(a.keywords)\n",
    "print(b + \"Date: \" + endb, end=\"\")\n",
    "print(a.publish_date)\n",
    "print(b + \"Top Image: \" + endb, end=\"\")\n",
    "print(a.top_image)\n",
    "print(b + \"Videos: \" + endb, end=\"\")\n",
    "print(a.movies)\n",
    "\n",
    "#Print summary\n",
    "print(\"\\n-----\\n\" + b + \"SUMMARY\" + endb + \"\\n-----\")\n",
    "print(a.summary)\n",
    "\n",
    "#Split article into sentences\n",
    "print(\"\\n-----\\n\" + b + \"ANALYSIS\" + endb + \"\\n-----\")\n",
    "for index, token in enumerate(tokenizer.tokenize(a.text)):\n",
    "    analysis = TextBlob(tokenizer.tokenize(a.text)[index])\n",
    "    # analysis.correct() #Correct mispelt words !!! IF YOU ACTIVATE THIS IT'LL BE SLOW\n",
    "    print(tokenizer.tokenize(a.text)[index] + b) \n",
    "    #and for each sentence, analyze sentiment\n",
    "    print(analysis.sentiment)\n",
    "    #Prep overall analysis tracker, IGNORE if parameters are [0.0, 0.0] for sentence\n",
    "    if analysis.sentiment.polarity != 0.0 and analysis.sentiment.subjectivity != 0.0:\n",
    "        count += 1\n",
    "        overallScore[0] += analysis.sentiment.polarity\n",
    "        overallScore[1] += analysis.sentiment.subjectivity\n",
    "    print(endb + \"-----\")\n",
    "\n",
    "#Guarding against divisions by 0\n",
    "if count == 0:\n",
    "    count = 1\n",
    "    \n",
    "#Print overall sentiment\n",
    "print(\"\\n-----\\n\" + b + \"OVERALL SENTIMENT\" + endb + \"\\n-----\")\n",
    "#print(TextBlob(a.text).sentiment)\n",
    "print(b + \"Polarity: \" + endb, end=\"\")\n",
    "print(overallScore[0]/count, end=\"   |   \")\n",
    "print(b + \"Subjectivity: \" + endb, end=\"\")\n",
    "print(overallScore[1]/count, end=\"\")\n",
    "print(endb + \"\\n\")\n",
    "print(b + \"END OF ARTICLE - END OF ARTICLE - END OF ARTICLE - END OF ARTICLE - END OF ARTICLE\" + endb)"
   ]
  },
  {
   "cell_type": "code",
   "execution_count": 41,
   "metadata": {},
   "outputs": [
    {
     "name": "stdout",
     "output_type": "stream",
     "text": [
      "0.13\n"
     ]
    }
   ],
   "source": [
    "teehee = 0.13123\n",
    "print(\"{0:.2f}\".format(teehee))"
   ]
  },
  {
   "cell_type": "code",
   "execution_count": null,
   "metadata": {
    "collapsed": true
   },
   "outputs": [],
   "source": []
  }
 ],
 "metadata": {
  "kernelspec": {
   "display_name": "Python 3",
   "language": "python",
   "name": "python3"
  },
  "language_info": {
   "codemirror_mode": {
    "name": "ipython",
    "version": 3
   },
   "file_extension": ".py",
   "mimetype": "text/x-python",
   "name": "python",
   "nbconvert_exporter": "python",
   "pygments_lexer": "ipython3",
   "version": "3.5.2"
  }
 },
 "nbformat": 4,
 "nbformat_minor": 2
}
