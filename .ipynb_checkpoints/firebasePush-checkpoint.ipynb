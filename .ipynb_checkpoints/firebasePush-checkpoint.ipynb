{
 "cells": [
  {
   "cell_type": "markdown",
   "metadata": {},
   "source": [
    "# firebasePush\n",
    "This demonstrates how to write to Firebase using the pyrebase library.\n",
    "\n",
    "Insert  ```%run 'firebasePush.ipynb'```  after your import statement.\n",
    "s\n",
    "After that, all you have to do is call ```sendToFirebase``` to upload the article data to Firebase.\n",
    "\n",
    "```firebasePush(title, url, authors, date, summary, polarity, subjectivity, keywords, images, videos, text)```"
   ]
  },
  {
   "cell_type": "code",
   "execution_count": 1,
   "metadata": {
    "collapsed": true
   },
   "outputs": [],
   "source": [
    "import pyrebase\n",
    "from urllib.parse import urlparse\n",
    "\n",
    "config = {\n",
    "  \"apiKey\": \"/////\",\n",
    "  \"authDomain\": \"fakenewsmustdie.firebaseapp.com\",\n",
    "  \"databaseURL\": \"https://fakenewsmustdie.firebaseio.com\",\n",
    "  \"storageBucket\": \"fakenewsmustdie.appspot.com\"\n",
    "}"
   ]
  },
  {
   "cell_type": "markdown",
   "metadata": {},
   "source": [
    "### Connect to the database\n",
    "Log in to Firebase with our credentials. The fake-looking credentials are working credentials. Non-authenticated users cannot read or write data. This function must be executed before firebasePush()."
   ]
  },
  {
   "cell_type": "code",
   "execution_count": 2,
   "metadata": {
    "collapsed": true
   },
   "outputs": [],
   "source": [
    "firebase = pyrebase.initialize_app(config)\n",
    "auth = firebase.auth()\n",
    "uid = \"////\"\n",
    "password = \"////\"\n",
    "user = auth.sign_in_with_email_and_password(uid, password)\n",
    "    \n",
    "db = firebase.database() # reference to the database service\n",
    "    \n",
    "def firebaseRefresh():\n",
    "    global user\n",
    "    user = auth.refresh(user['refreshToken'])"
   ]
  },
  {
   "cell_type": "markdown",
   "metadata": {},
   "source": [
    "### Function to send article data to Firebase"
   ]
  },
  {
   "cell_type": "code",
   "execution_count": 3,
   "metadata": {
    "collapsed": true
   },
   "outputs": [],
   "source": [
    "def firebasePush(title, url, authors, date, summary, polarity, subjectivity, keywords, images, videos, text):\n",
    "    domain = urlparse(url).netloc\n",
    "    domain = domain.replace(\".\",\"\")\n",
    "    date = str(date)\n",
    "    link = url\n",
    "    url = url.replace(\"/\",\"\")\n",
    "    url = url.replace(\".\",\"\")\n",
    "    url = url.replace(\"http:\",\"\")\n",
    "    url = url.replace(\"https:\",\"\")\n",
    "    url = url.replace(domain,\"\")\n",
    "    url = url.split(\"?\",1)[0]\n",
    "    url = url.split(\"#\",1)[0]\n",
    "    text = text.replace(\"\\n\",\"\")\n",
    "    data = {\n",
    "        \"title\": title,\n",
    "        \"authors\": authors,\n",
    "        \"summary\": summary,\n",
    "        \"date\": date,\n",
    "        \"polarity\": polarity,\n",
    "        \"subjectivity\": subjectivity,\n",
    "        \"keywords\": keywords,\n",
    "        \"images\": images,\n",
    "        \"videos\": videos,\n",
    "        \"article\": text,\n",
    "        \"url\": link\n",
    "    }\n",
    "    results = db.child(\"articles\").child(domain).child(url).set(data, user['idToken'])"
   ]
  },
  {
   "cell_type": "code",
   "execution_count": null,
   "metadata": {
    "collapsed": true
   },
   "outputs": [],
   "source": []
  },
  {
   "cell_type": "code",
   "execution_count": null,
   "metadata": {
    "collapsed": true
   },
   "outputs": [],
   "source": []
  }
 ],
 "metadata": {
  "kernelspec": {
   "display_name": "Python 3",
   "language": "python",
   "name": "python3"
  },
  "language_info": {
   "codemirror_mode": {
    "name": "ipython",
    "version": 3
   },
   "file_extension": ".py",
   "mimetype": "text/x-python",
   "name": "python",
   "nbconvert_exporter": "python",
   "pygments_lexer": "ipython3",
   "version": "3.6.2"
  }
 },
 "nbformat": 4,
 "nbformat_minor": 2
}
