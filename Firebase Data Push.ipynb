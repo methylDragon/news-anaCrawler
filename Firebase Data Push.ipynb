{
 "cells": [
  {
   "cell_type": "markdown",
   "metadata": {},
   "source": [
    "# Firebase Data Push Experiement\n",
    "This is a notebook to experiment with pushing data to Firebase using our functions."
   ]
  },
  {
   "cell_type": "code",
   "execution_count": null,
   "metadata": {
    "collapsed": true
   },
   "outputs": [],
   "source": [
    "%run 'analyseArticle.ipynb'\n",
    "%run 'Firebase.ipynb'"
   ]
  },
  {
   "cell_type": "code",
   "execution_count": 2,
   "metadata": {
    "collapsed": true
   },
   "outputs": [],
   "source": [
    "article_url = \"http://www.opengovasia.com/articles/8107-consortium-led-by-mas-and-abs-develops-software-prototypes-for-decentralised-inter-bank-payments-using-blockchain-technology\"\n",
    "\n",
    "parameters = analyseArticle(article_url)\n",
    "\n",
    "title = parameters[\"title\"]\n",
    "url = parameters[\"url\"]\n",
    "date = parameters[\"date\"]\n",
    "authors = parameters[\"authors\"]\n",
    "date = parameters[\"date\"]\n",
    "summary = parameters[\"summary\"]\n",
    "polarity = parameters[\"polarity\"]\n",
    "subjectivity = parameters[\"subjectivity\"]\n",
    "keywords = parameters[\"keywords\"]\n",
    "images = parameters[\"images\"]\n",
    "videos = parameters[\"videos\"]\n",
    "text = parameters[\"text\"]\n",
    "\n",
    "sendToFirebase(title, url, authors, date, summary, polarity, subjectivity, keywords, images, videos, text)"
   ]
  },
  {
   "cell_type": "code",
   "execution_count": null,
   "metadata": {
    "collapsed": true
   },
   "outputs": [],
   "source": []
  }
 ],
 "metadata": {
  "kernelspec": {
   "display_name": "Python 3",
   "language": "python",
   "name": "python3"
  },
  "language_info": {
   "codemirror_mode": {
    "name": "ipython",
    "version": 3
   },
   "file_extension": ".py",
   "mimetype": "text/x-python",
   "name": "python",
   "nbconvert_exporter": "python",
   "pygments_lexer": "ipython3",
   "version": "3.5.2"
  }
 },
 "nbformat": 4,
 "nbformat_minor": 2
}
