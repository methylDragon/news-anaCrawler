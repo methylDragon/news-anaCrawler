{
 "cells": [
  {
   "cell_type": "markdown",
   "metadata": {},
   "source": [
    "## Printing color\n",
    "https://pypi.python.org/pypi/termcolor\n",
    "https://stackoverflow.com/questions/16816013/is-it-possible-to-print-using-different-color-in-ipythons-notebook"
   ]
  },
  {
   "cell_type": "code",
   "execution_count": 47,
   "metadata": {},
   "outputs": [
    {
     "name": "stdout",
     "output_type": "stream",
     "text": [
      "\u001b[30;1m\"red\"\u001b[0m\n",
      "\u001b[31;1m\"red\"\u001b[0m\n",
      "\u001b[32;1m\"red\"\u001b[0m\n",
      "\u001b[33;1m\"red\"\u001b[0m\n",
      "\u001b[34;1m\"red\"\u001b[0m\n",
      "\u001b[35;1m\"red\"\u001b[0m\n",
      "\u001b[36;1m\"red\"\u001b[0m\n",
      "\u001b[37;1m\"red\"\u001b[0m\n",
      "\u001b[30;1m\"red\"\u001b[0m\n",
      "\u001b[31;1m\"red\"\u001b[0m\n",
      "\u001b[32;1m\"red\"\u001b[0m\n",
      "\u001b[33;1m\"red\"\u001b[0m\n",
      "\u001b[34;1m\"red\"\u001b[0m\n",
      "\u001b[35;1m\"red\"\u001b[0m\n",
      "\u001b[36;1m\"red\"\u001b[0m\n",
      "\u001b[40;1m\"red\"\u001b[0m\n",
      "\u001b[30m\"red\"\u001b[0m\n",
      "\u001b[31m\"red\"\u001b[0m\n",
      "\u001b[32m\"red\"\u001b[0m\n",
      "\u001b[33m\"red\"\u001b[0m\n",
      "\u001b[34m\"red\"\u001b[0m\n",
      "\u001b[35m\"red\"\u001b[0m\n",
      "\u001b[36m\"red\"\u001b[0m\n",
      "\u001b[37m\"red\"\u001b[0m\n",
      "ESC[ … 38;5;<n> … m\"red\"\u001b[0m\n"
     ]
    }
   ],
   "source": [
    "# print(\"\\x1b[30;1m\\\"red\\\"\\x1b[0m\")\n",
    "# print(\"\\x1b[31;1m\\\"red\\\"\\x1b[0m\")\n",
    "# print(\"\\x1b[32;1m\\\"red\\\"\\x1b[0m\")\n",
    "# print(\"\\x1b[33;1m\\\"red\\\"\\x1b[0m\")\n",
    "# print(\"\\x1b[34;1m\\\"red\\\"\\x1b[0m\")\n",
    "# print(\"\\x1b[35;1m\\\"red\\\"\\x1b[0m\")\n",
    "# print(\"\\x1b[36;1m\\\"red\\\"\\x1b[0m\")\n",
    "# print(\"\\x1b[37;1m\\\"red\\\"\\x1b[0m\")\n",
    "\n",
    "# print(\"\\x1b[30;1m\\\"red\\\"\\x1b[0m\")\n",
    "# print(\"\\x1b[31;1m\\\"red\\\"\\x1b[0m\")\n",
    "# print(\"\\x1b[32;1m\\\"red\\\"\\x1b[0m\")\n",
    "# print(\"\\x1b[33;1m\\\"red\\\"\\x1b[0m\")\n",
    "# print(\"\\x1b[34;1m\\\"red\\\"\\x1b[0m\")\n",
    "# print(\"\\x1b[35;1m\\\"red\\\"\\x1b[0m\")\n",
    "# print(\"\\x1b[36;1m\\\"red\\\"\\x1b[0m\")\n",
    "# print(\"\\x1b[37;1m\\\"red\\\"\\x1b[0m\")\n",
    "\n",
    "# print(\"\\x1b[30m\\\"red\\\"\\x1b[0m\")\n",
    "# print(\"\\x1b[31m\\\"red\\\"\\x1b[0m\")\n",
    "# print(\"\\x1b[32m\\\"red\\\"\\x1b[0m\")\n",
    "# print(\"\\x1b[33m\\\"red\\\"\\x1b[0m\")\n",
    "# print(\"\\x1b[34m\\\"red\\\"\\x1b[0m\")\n",
    "# print(\"\\x1b[35m\\\"red\\\"\\x1b[0m\")\n",
    "# print(\"\\x1b[36m\\\"red\\\"\\x1b[0m\")\n",
    "# print(\"\\x1b[37m\\\"red\\\"\\x1b[0m\")"
   ]
  },
  {
   "cell_type": "code",
   "execution_count": 96,
   "metadata": {
    "scrolled": true
   },
   "outputs": [
    {
     "name": "stdout",
     "output_type": "stream",
     "text": [
      "\u001b[38;5;16mo\u001b[0m \u001b[38;5;16mo\u001b[0m \u001b[38;5;52mo\u001b[0m \u001b[38;5;88mo\u001b[0m \u001b[38;5;124mo\u001b[0m \n",
      "\u001b[38;5;16mo\u001b[0m \u001b[38;5;16mo\u001b[0m \u001b[38;5;52mo\u001b[0m \u001b[38;5;88mo\u001b[0m \u001b[38;5;124mo\u001b[0m \n",
      "\u001b[38;5;17mo\u001b[0m \u001b[38;5;17mo\u001b[0m \u001b[38;5;53mo\u001b[0m \u001b[38;5;89mo\u001b[0m \u001b[38;5;125mo\u001b[0m \n",
      "\u001b[38;5;18mo\u001b[0m \u001b[38;5;18mo\u001b[0m \u001b[38;5;54mo\u001b[0m \u001b[38;5;90mo\u001b[0m \u001b[38;5;126mo\u001b[0m \n",
      "\u001b[38;5;19mo\u001b[0m \u001b[38;5;19mo\u001b[0m \u001b[38;5;55mo\u001b[0m \u001b[38;5;91mo\u001b[0m \u001b[38;5;127mo\u001b[0m \n"
     ]
    }
   ],
   "source": [
    "from __future__ import print_function\n",
    "import regex as re\n",
    "\n",
    "# for x in range(256):\n",
    "# # #     formatting = \"\\x1b[\" + str(x) + \"m\\\"red\\\"\\x1b[0m\"\n",
    "# # #     formatting = \"\\x1b[\" + str(x) + \"m k \\x1b[0m\"\n",
    "#     formatting = \"\\033[38;5;\" + str(x) + \"mo \\x1b[0m\"\n",
    "\n",
    "#     print(formatting, end=\" \")\n",
    "    \n",
    "#     if x%36 == 15:\n",
    "#         print(\"\")\n",
    "\n",
    "\n",
    "def print_this_way(string, x, y):\n",
    "#     formatting = \"\\033[38;5;\" + str(16 + int(4*x) + 36*int(4*y)) + \"m\\\"red\\\"\\x1b[0m\"\n",
    "    formatting = '\\x1b[38;5;' + str(16 + int(4*x) + 36*int(4*y)) + 'm'+ string +'\\x1b[0m'\n",
    "#     print(formatting, end=\" \")\n",
    "    print('\\x1b[38;5;' + str(16 + int(4*x) + 36*int(4*y)) + 'm'+ string +'\\x1b[0m', end=\" \")\n",
    "\n",
    "import numpy as np\n",
    "\n",
    "for x in np.arange(0,1,0.2):\n",
    "    for y in np.arange(0,1,0.2):\n",
    "        print_this_way(\"o\", x, y)\n",
    "    print(\"\")\n",
    "\n",
    "\n",
    "#     formatting_ = \"\\x1b[37m\\\"red\\\"\\x1b[0m\"\n",
    "#     print(formatting_, end=\" \")\n",
    "    \n",
    "#     print(type(formatting))\n",
    "#     print(type(\"\\x1b[37m\\\"red\\\"\\x1b[0m\"))\n",
    "    \n",
    "    \n",
    "#     \"\\x1b[37m\\\"red\\\"\\x1b[0m\""
   ]
  },
  {
   "cell_type": "code",
   "execution_count": 15,
   "metadata": {},
   "outputs": [
    {
     "name": "stdout",
     "output_type": "stream",
     "text": [
      "\u001b[1;31mHello world\u001b[0m noobs\n"
     ]
    }
   ],
   "source": [
    "print('\\x1b[1;31m'+'Hello world'+'\\x1b[0m' + \" noobs\")"
   ]
  },
  {
   "cell_type": "code",
   "execution_count": 3,
   "metadata": {},
   "outputs": [
    {
     "name": "stdout",
     "output_type": "stream",
     "text": [
      "\u001b[5m\u001b[7m\u001b[31mHello, World!\u001b[0m\n",
      "\u001b[41m\u001b[32mHello, World!\u001b[0m\n",
      "\u001b[46m\u001b[31mHello, World!\u001b[0m\n",
      "\u001b[46m\u001b[31mHello, Universe!\u001b[0m\n",
      "\u001b[35m0\u001b[0m \u001b[35m1\u001b[0m \u001b[35m2\u001b[0m \u001b[35m3\u001b[0m \u001b[35m4\u001b[0m \u001b[35m5\u001b[0m \u001b[35m6\u001b[0m \u001b[35m7\u001b[0m \u001b[35m8\u001b[0m \u001b[35m9\u001b[0m "
     ]
    },
    {
     "name": "stderr",
     "output_type": "stream",
     "text": [
      "\u001b[1m\u001b[31mAttention!\u001b[0m\n"
     ]
    }
   ],
   "source": [
    "import sys\n",
    "from termcolor import colored, cprint\n",
    "\n",
    "text = colored('Hello, World!', 'red', attrs=['reverse', 'blink'])\n",
    "print(text)\n",
    "cprint('Hello, World!', 'green', 'on_red')\n",
    "\n",
    "print_red_on_cyan = lambda x: cprint(x, 'red', 'on_cyan')\n",
    "print_red_on_cyan('Hello, World!')\n",
    "print_red_on_cyan('Hello, Universe!')\n",
    "\n",
    "for i in range(10):\n",
    "    cprint(i, 'magenta', end=' ')\n",
    "\n",
    "cprint(\"Attention!\", 'red', attrs=['bold'], file=sys.stderr)"
   ]
  },
  {
   "cell_type": "markdown",
   "metadata": {
    "collapsed": true
   },
   "source": [
    "## Insults package"
   ]
  },
  {
   "cell_type": "code",
   "execution_count": 1,
   "metadata": {},
   "outputs": [],
   "source": [
    "from insults import Insults\n",
    "Insults.load_model()"
   ]
  },
  {
   "cell_type": "code",
   "execution_count": 106,
   "metadata": {},
   "outputs": [],
   "source": [
    "comment = \"You eat people?\""
   ]
  },
  {
   "cell_type": "code",
   "execution_count": 107,
   "metadata": {},
   "outputs": [
    {
     "data": {
      "text/plain": [
       "0.21483478528622635"
      ]
     },
     "execution_count": 107,
     "metadata": {},
     "output_type": "execute_result"
    }
   ],
   "source": [
    "Insults.rate_comment(comment)"
   ]
  },
  {
   "cell_type": "code",
   "execution_count": 108,
   "metadata": {},
   "outputs": [
    {
     "name": "stdout",
     "output_type": "stream",
     "text": [
      "(['cunt', 'shit'], None)\n"
     ]
    }
   ],
   "source": [
    "comments = [\"You called me a \\\"dickhead\\\", so I'll say you're a cunt.\", \"These shitakes taste like shit.\"]\n",
    "print(Insults.foul_language(comments, context=False))"
   ]
  },
  {
   "cell_type": "markdown",
   "metadata": {},
   "source": [
    "## Identifying quotation marks\n",
    "https://regex101.com/r/cB0kB8/1\n",
    "https://stackoverflow.com/questions/39713487/extracting-quotations-citations-with-nltk-not-regex\n",
    "\n",
    "For now we only care about double inverted commas, and all text that is within a pair of double inverted commas is treated at quotation. If you include single inverted commas you need to deal with the issue of parsing the apstoshes (people's, it's). Perhaps cleanup can be done with nltk, for future work. \n",
    "\n",
    "There is also a need to differentiate between inverted commas used for sacarsm and used for quotation. Moreover, some sites format quoted text in a different way (exited from the text and centred, with name at the bottom right) - and such quotation is not captured."
   ]
  },
  {
   "cell_type": "code",
   "execution_count": 9,
   "metadata": {},
   "outputs": [],
   "source": [
    "fake_news = u'''\n",
    "Prime Minister Lee Hsien Loong has been addressed as a dictator by many Singaporeans and rightly so, but few can point out what he actually did that defines him as one – after all, everything is legal right? For a start, dictators write their own rules and never subject themselves to the rules they wrote. The one trait shared between Lee Hsien Loong and dictators like Kim Jong Un, Hitler, Stalin and Mao is when they are all above the laws, it is still legal. One just need to look at the joke of a Presidential Election conducted this year to understand what a dictator is all about:\n",
    "\n",
    "Writing his own laws\n",
    "Knowing that having a race-based election infringes the Constitution, Lee Hsien Loong single-handedly abused his majority power in Parliament to re-write the Constitution. After making a mistake about Halimah Yacob’s Indian race, Lee Hsien Loong appointed a committee of his cronies to re-write the definition of the Malay race.\n",
    "\n",
    "Creating proxies to act on his behalf\n",
    "The 16-member committee to decide “Malayness” was appointed by Lee Hsien Loong and the committee actively consults the dictator for directions. The Council of Presidential Advisers (CPA) restricting the powers of a President also acts by Lee Hsien Loong’s bidding. Halimah Yacob herself is a walking puppet and proxy of Lee Hsien Loong. These proxies are created to create a facade that due processes are in place, but a sharper mind knows better.\n",
    "\n",
    "Breaching the laws he created\n",
    "When opposition party’s ex-member Yaw Shin Long resigned from his MP position, a by-election was called and insisted so by Lee Hsien Loong. However, when Halimah Yacob resigned from her MP position, Lee Hsien Loong feigned ignorance and claimed no by-election is needed. However the fact remains that the Parliament lost one representative voice (not that it matters since it is still PAP anyway), so a by-election should be called for Yew Tee-Marsiling GRC.\n",
    "\n",
    "Abuse laws to his political advantage\n",
    "A walkover is legal, according to the election laws he written. Therefore, the Lee Hsien Loong-endorsed candidate becoming a President through a walkover is wholly legit. Banning the two opponent Presidential contestants because they fail to meet the S$500 million financial requirements is also perfectly legit. Halimah Yacob, an Indian, is now a legit Malay because a committee said so. Everything is legal yet corrupted, the colour white is actually a stain itself.\n",
    "\n",
    "His words are final\n",
    "Like all dictators, Lee Hsien Loong’s words are final. Yes there are unhappiness, he said, “but I did the right thing”. Lee Hsien Loong’s words exemplify the saying that the road to hell is paved with good intentions. A civil court case launched  by Dr Tan Cheng Bock was blocked by the High Court. Opposition MP Sylvia Lim’s question in Parliament is denied, twice. Nobody could ask a damn question, because his words are final. Gutter politics at it’s finest.\n",
    "\n",
    "Whether Singapore is corrupted depends on one’s acceptance of the political system. If Singapore is perceived as a democracy, it breaches every value of the Singapore pledge and the government is corrupted inside out. Whereas if Singapore is perceived as a dictatorship, it is fully legitimised and corruption-free.\n",
    "'''"
   ]
  },
  {
   "cell_type": "markdown",
   "metadata": {},
   "source": [
    "We need to clean up the open and closed inverted commas with straight ones. \n",
    "\n",
    "Or we can use the information of the open and closed inverted commas, but not all sites typeset as such."
   ]
  },
  {
   "cell_type": "code",
   "execution_count": 16,
   "metadata": {},
   "outputs": [],
   "source": [
    "import unidecode\n",
    "fake_news_ = unidecode.unidecode(fake_news)"
   ]
  },
  {
   "cell_type": "code",
   "execution_count": 17,
   "metadata": {},
   "outputs": [
    {
     "name": "stdout",
     "output_type": "stream",
     "text": [
      "['Malayness', 'but I did the right thing']\n"
     ]
    }
   ],
   "source": [
    "import regex as re\n",
    "\n",
    "print(re.findall(r'\"(.*?)\"', fake_news_))"
   ]
  },
  {
   "cell_type": "markdown",
   "metadata": {},
   "source": [
    "## Making recommended Google search queries\n",
    "Identify key words or convert statement into a fact-checking question.\n"
   ]
  },
  {
   "cell_type": "code",
   "execution_count": 18,
   "metadata": {},
   "outputs": [],
   "source": [
    "#todo"
   ]
  },
  {
   "cell_type": "code",
   "execution_count": null,
   "metadata": {},
   "outputs": [],
   "source": []
  }
 ],
 "metadata": {
  "kernelspec": {
   "display_name": "Python 2",
   "language": "python",
   "name": "python2"
  },
  "language_info": {
   "codemirror_mode": {
    "name": "ipython",
    "version": 2
   },
   "file_extension": ".py",
   "mimetype": "text/x-python",
   "name": "python",
   "nbconvert_exporter": "python",
   "pygments_lexer": "ipython2",
   "version": "2.7.12"
  }
 },
 "nbformat": 4,
 "nbformat_minor": 2
}
